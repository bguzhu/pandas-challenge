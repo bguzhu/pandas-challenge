{
 "cells": [
  {
   "cell_type": "markdown",
   "metadata": {},
   "source": [
    "# PyCity Schools Analysis\n",
    "\n",
    "- Your analysis here\n",
    "  \n",
    "Written analysis/report\n",
    "\n",
    "After analyzing the PyCity School datasets, one conclusion drawn is schools that spend significantly more overall as well as for each student generally have lower passing rates for math and reading. Even though the money is possibly used for more learning resources and better student support, school performances tend to worsen for the student population as a whole. Another conclusion is that charter schools, regardless if the student population is large or not, have better student performances compared to district schools. Wilson High School is the only charter school with a large student population that still has a high percentage of students passing math and reading. Given the trends and patterns within the datasets and to summarize this analysis, enrolling students in charter schools, preferably where the future school budgets will hopefully result in an improved student learning experience, can most likely lead to great education and success later in life.\n"
   ]
  },
  {
   "cell_type": "code",
   "execution_count": null,
   "metadata": {},
   "outputs": [],
   "source": [
    "#Use the appropriate Panda library\n",
    "import pandas as pd\n",
    "\n",
    "#Load the csv files to eventually read\n",
    "school_data_load = \"./Resources/schools_complete.csv\"\n",
    "student_data_load = \"./Resources/students_complete.csv\"\n",
    "\n",
    "# Read the files and put into a pandas dataframe\n",
    "school_data_read = pd.read_csv(school_data_load)\n",
    "student_data_read = pd.read_csv(student_data_load)\n",
    "\n",
    "# Merge the data from the read files  \n",
    "school_data = pd.merge(student_data_read, school_data_read)\n",
    "\n",
    "#Display the first 5 rows of the school_data dataframe\n",
    "school_data.head()"
   ]
  },
  {
   "cell_type": "markdown",
   "metadata": {},
   "source": [
    "## District Summary"
   ]
  },
  {
   "cell_type": "code",
   "execution_count": null,
   "metadata": {},
   "outputs": [],
   "source": [
    "#Get the total number of unique schools\n",
    "unique_school_count = len(school_data[\"school_name\"].unique())\n",
    "unique_school_count"
   ]
  },
  {
   "cell_type": "code",
   "execution_count": null,
   "metadata": {},
   "outputs": [],
   "source": [
    "#Get the total number of students through each Student ID.\n",
    "student_total = len(school_data[\"Student ID\"].unique())\n",
    "student_total"
   ]
  },
  {
   "cell_type": "code",
   "execution_count": null,
   "metadata": {},
   "outputs": [],
   "source": [
    "#Get the total budget using school_data_read since the merged school_data creates budget duplicates for multiple students at the same school\n",
    "budget_total = school_data_read[\"budget\"].sum()\n",
    "budget_total"
   ]
  },
  {
   "cell_type": "code",
   "execution_count": null,
   "metadata": {},
   "outputs": [],
   "source": [
    "#Get the average math score\n",
    "average_math = school_data[\"math_score\"].mean()\n",
    "average_math"
   ]
  },
  {
   "cell_type": "code",
   "execution_count": null,
   "metadata": {},
   "outputs": [],
   "source": [
    "#Get the average (mean) reading score\n",
    "average_reading = school_data[\"reading_score\"].mean()\n",
    "average_reading"
   ]
  },
  {
   "cell_type": "code",
   "execution_count": null,
   "metadata": {},
   "outputs": [],
   "source": [
    "# Takes all students that have a greater or equal to 70 math score and counts them in the school data dataframe. Also, gets the student name.\n",
    "passing_math = school_data[(school_data[\"math_score\"] >= 70)].count()[\"student_name\"]\n",
    "passing_math_percent = passing_math / student_total * 100\n",
    "passing_math_percent"
   ]
  },
  {
   "cell_type": "code",
   "execution_count": null,
   "metadata": {},
   "outputs": [],
   "source": [
    "# Takes all students that have a greater or equal to 70 reading score and counts them in the school data dataframe by pooling filter out. Also, gets the student name.\n",
    "passing_reading = school_data[(school_data[\"reading_score\"] >= 70)].count()[\"student_name\"]\n",
    "passing_reading_percent = passing_reading / student_total * 100\n",
    "passing_reading_percent"
   ]
  },
  {
   "cell_type": "code",
   "execution_count": null,
   "metadata": {},
   "outputs": [],
   "source": [
    "#Finds how many passed both math and reading and gets a percentage\n",
    "passing_math_reading = school_data[\n",
    "    (school_data[\"math_score\"] >= 70) & (school_data[\"reading_score\"] >= 70)\n",
    "    ].count()[\"student_name\"]\n",
    "overall_pass_rate = passing_math_reading / student_total * 100\n",
    "overall_pass_rate"
   ]
  },
  {
   "cell_type": "code",
   "execution_count": null,
   "metadata": {},
   "outputs": [],
   "source": [
    "# Create a dataframe with the above metrics\n",
    "district_summary = pd.DataFrame(\n",
    "    {\n",
    "        \"Total Number of Unique Schools\": [unique_school_count],\n",
    "        \"Total Students\": [student_total],\n",
    "        \"Total Budget\": [budget_total],\n",
    "        \"Average Math Score\": [average_math],\n",
    "        \"Average Reading Score\": [average_reading],\n",
    "        \"Percentage of Math Passed\": [passing_math_percent],\n",
    "        \"Percentage of Reading Passed\": [passing_reading_percent],\n",
    "        \"Percentage of Math and Reading Passed\": [overall_pass_rate] \n",
    "    }\n",
    ")\n",
    "\n",
    "#Make the Total Students include a comma and the Total Budgets have a dollar sign and commas\n",
    "district_summary[\"Total Students\"] = district_summary[\"Total Students\"].map(\"{:,}\".format)\n",
    "district_summary[\"Total Budget\"] = district_summary[\"Total Budget\"].map(\"${:,.2f}\".format)\n",
    "\n",
    "#Show the final dataframe\n",
    "district_summary"
   ]
  },
  {
   "cell_type": "markdown",
   "metadata": {},
   "source": [
    "## School Summary"
   ]
  },
  {
   "cell_type": "code",
   "execution_count": null,
   "metadata": {},
   "outputs": [],
   "source": [
    "#Get the school types\n",
    "school_types = school_data_read.set_index([\"school_name\"])[\"type\"]\n",
    "school_types                                                   "
   ]
  },
  {
   "cell_type": "code",
   "execution_count": null,
   "metadata": {},
   "outputs": [],
   "source": [
    "#Get the total student count per school\n",
    "per_school_counts = school_data[\"school_name\"].value_counts()\n",
    "per_school_counts"
   ]
  },
  {
   "cell_type": "code",
   "execution_count": null,
   "metadata": {},
   "outputs": [],
   "source": [
    "#Use groupby to show each unique school and the budget mean\n",
    "per_school_budget = school_data.groupby([\"school_name\"]).mean()[\"budget\"]\n",
    "per_school_capita = per_school_budget / per_school_counts"
   ]
  },
  {
   "cell_type": "code",
   "execution_count": null,
   "metadata": {},
   "outputs": [],
   "source": [
    "#Get the average test scores per school\n",
    "per_school_math = school_data.groupby([\"school_name\"]).mean()[\"math_score\"]\n",
    "per_school_reading = school_data.groupby([\"school_name\"]).mean()[\"reading_score\"]"
   ]
  },
  {
   "cell_type": "code",
   "execution_count": null,
   "metadata": {},
   "outputs": [],
   "source": [
    "#Get the number of students per school with math scores of 70 or higher\n",
    "students_passing_math = school_data[school_data[\"math_score\"] >= 70]"
   ]
  },
  {
   "cell_type": "code",
   "execution_count": null,
   "metadata": {},
   "outputs": [],
   "source": [
    "#Get the number of students per school with reading scores of 70 or higher\n",
    "students_passing_reading = school_data[school_data[\"reading_score\"] >= 70]"
   ]
  },
  {
   "cell_type": "code",
   "execution_count": null,
   "metadata": {},
   "outputs": [],
   "source": [
    "#Gets the number of students per school that passed both math and reading with scores of 70 or higher\n",
    "pass_math_and_reading = school_data[\n",
    "    (school_data[\"reading_score\"] >= 70) & (school_data[\"math_score\"] >= 70)\n",
    "]"
   ]
  },
  {
   "cell_type": "code",
   "execution_count": null,
   "metadata": {},
   "outputs": [],
   "source": [
    "#Get the passing rates\n",
    "per_school_passing_math = students_passing_math.groupby([\"school_name\"]).count()[\"student_name\"] / per_school_counts * 100\n",
    "per_school_passing_reading = students_passing_reading.groupby([\"school_name\"]).count()[\"student_name\"] / per_school_counts * 100\n",
    "overall_passed_rate = pass_math_and_reading.groupby([\"school_name\"]).count()[\"student_name\"] / per_school_counts * 100"
   ]
  },
  {
   "cell_type": "code",
   "execution_count": null,
   "metadata": {},
   "outputs": [],
   "source": [
    "# Create a DataFrame with the above metrics\n",
    "per_school_summary = pd.DataFrame(\n",
    "    {\n",
    "        \"School Types\": school_types,\n",
    "        \"Total Student Count\": per_school_counts,\n",
    "        \"Total School Budget\": per_school_budget,\n",
    "        \"Per Capita Spending\": per_school_capita,\n",
    "        \"Average Math Score\": per_school_math,\n",
    "        \"Average Reading Score\": per_school_reading,\n",
    "        \"Percentage of Schools with Math Passed\": per_school_passing_math,\n",
    "        \"Percentage of Schools with Reading Passed\": per_school_passing_reading,\n",
    "        \"% Overall Passing\": overall_passed_rate\n",
    "    }\n",
    ")\n",
    "\n",
    "#Include $ signs to the Total School Budget and Per Capita Spending columns as well as commas to the Total School Budget column\n",
    "per_school_summary[\"Total School Budget\"] = per_school_summary[\"Total School Budget\"].map(\"${:,.2f}\".format)\n",
    "per_school_summary[\"Per Capita Spending\"] = per_school_summary[\"Per Capita Spending\"].map(\"${:,.2f}\".format)\n",
    "\n",
    "# Display the DataFrame\n",
    "per_school_summary"
   ]
  },
  {
   "cell_type": "markdown",
   "metadata": {},
   "source": [
    "## Highest-Performing Schools (by % Overall Passing)"
   ]
  },
  {
   "cell_type": "code",
   "execution_count": null,
   "metadata": {
    "scrolled": true
   },
   "outputs": [],
   "source": [
    "# Sort by descending order for Overall passing % \n",
    "top_schools = per_school_summary.sort_values([\"% Overall Passing\"], ascending=False)\n",
    "top_schools.head()"
   ]
  },
  {
   "cell_type": "markdown",
   "metadata": {},
   "source": [
    "## Bottom Performing Schools (By % Overall Passing)"
   ]
  },
  {
   "cell_type": "code",
   "execution_count": null,
   "metadata": {},
   "outputs": [],
   "source": [
    "#Sort by ascending order for Overall passing %\n",
    "bottom_schools = per_school_summary.sort_values([\"% Overall Passing\"], ascending=True)\n",
    "bottom_schools.head()"
   ]
  },
  {
   "cell_type": "markdown",
   "metadata": {},
   "source": [
    "## Math Scores by Grade"
   ]
  },
  {
   "cell_type": "code",
   "execution_count": null,
   "metadata": {},
   "outputs": [],
   "source": [
    "#Checks for each grade\n",
    "freshmen = school_data[(school_data[\"grade\"] == \"9th\")]\n",
    "sophomore = school_data[(school_data[\"grade\"] == \"10th\")]\n",
    "junior = school_data[(school_data[\"grade\"] == \"11th\")]\n",
    "senior = school_data[(school_data[\"grade\"] == \"12th\")]\n",
    "\n",
    "#Use groupby to look at each unique school name and gets the average math score\n",
    "freshmen_math_scores = freshmen.groupby([\"school_name\"]).mean()[\"math_score\"]\n",
    "sophomore_math_scores = sophomore.groupby([\"school_name\"]).mean()[\"math_score\"]\n",
    "junior_math_scores = junior.groupby([\"school_name\"]).mean()[\"math_score\"]\n",
    "senior_math_scores = senior.groupby([\"school_name\"]).mean()[\"math_score\"]\n",
    "\n",
    "#Puts each math score above to a new dataframe to distinguish each grade\n",
    "math_scores_by_grade = pd.DataFrame(\n",
    "    {\n",
    "        \"Freshmen Math Scores\" : freshmen_math_scores,\n",
    "        \"Sophomore Math Scores\" : sophomore_math_scores,\n",
    "        \"Junior Math Scores\" : junior_math_scores,\n",
    "        \"Senior Math Scores\" : senior_math_scores,\n",
    "    }\n",
    ")\n",
    "\n",
    "# Show the dataframe\n",
    "math_scores_by_grade"
   ]
  },
  {
   "cell_type": "markdown",
   "metadata": {},
   "source": [
    "## Reading Score by Grade "
   ]
  },
  {
   "cell_type": "code",
   "execution_count": null,
   "metadata": {
    "scrolled": false
   },
   "outputs": [],
   "source": [
    "#Checks for each grade\n",
    "freshmen = school_data[(school_data[\"grade\"] == \"9th\")]\n",
    "sophomore = school_data[(school_data[\"grade\"] == \"10th\")]\n",
    "junior = school_data[(school_data[\"grade\"] == \"11th\")]\n",
    "senior = school_data[(school_data[\"grade\"] == \"12th\")]\n",
    "\n",
    "#Use groupby to look at each unique school name and gets the average math score\n",
    "freshmen_reading_scores = freshmen.groupby([\"school_name\"]).mean()[\"reading_score\"]\n",
    "sophomore_reading_scores = sophomore.groupby([\"school_name\"]).mean()[\"reading_score\"]\n",
    "junior_reading_scores = junior.groupby([\"school_name\"]).mean()[\"reading_score\"]\n",
    "senior_reading_scores = senior.groupby([\"school_name\"]).mean()[\"reading_score\"]\n",
    "\n",
    "#Puts each reading score above to a new dataframe to distinguish each grade\n",
    "reading_scores_by_grade = pd.DataFrame(\n",
    "    {\n",
    "        \"Freshmen Reading Scores\" : freshmen_reading_scores,\n",
    "        \"Sophomore Reading Scores\" : sophomore_reading_scores,\n",
    "        \"Junior Reading Scores\" : junior_reading_scores,\n",
    "        \"Senior Reading Scores\" : senior_reading_scores,\n",
    "    }\n",
    ")\n",
    "\n",
    "#Show the DataFrame\n",
    "reading_scores_by_grade"
   ]
  },
  {
   "cell_type": "markdown",
   "metadata": {},
   "source": [
    "## Scores by School Spending"
   ]
  },
  {
   "cell_type": "code",
   "execution_count": null,
   "metadata": {},
   "outputs": [],
   "source": [
    "#Make the bins\n",
    "spending_bins = [0, 585, 630, 645, 680]\n",
    "labels = [\"<$585\", \"$585-630\", \"$630-645\", \"$645-680\"]"
   ]
  },
  {
   "cell_type": "code",
   "execution_count": null,
   "metadata": {},
   "outputs": [],
   "source": [
    "# Create a copy of the school summary since it has the \"Per Student Budget\" \n",
    "school_spending_df = per_school_summary.copy()"
   ]
  },
  {
   "cell_type": "code",
   "execution_count": null,
   "metadata": {},
   "outputs": [],
   "source": [
    "#Use pd.cut() to get a Data Series and while using bins and labels\n",
    "school_spending_df[\"Spending Ranges (Per Student)\"] = pd.cut(per_school_capita, bins=spending_bins, labels=labels)"
   ]
  },
  {
   "cell_type": "code",
   "execution_count": null,
   "metadata": {},
   "outputs": [],
   "source": [
    "#Get averages \n",
    "spending_math_scores = school_spending_df.groupby([\"Spending Ranges (Per Student)\"])[\"Average Math Score\"].mean()\n",
    "spending_reading_scores = school_spending_df.groupby([\"Spending Ranges (Per Student)\"])[\"Average Reading Score\"].mean()\n",
    "spending_passing_math = school_spending_df.groupby([\"Spending Ranges (Per Student)\"])[\"Percentage of Schools with Math Passed\"].mean()\n",
    "spending_passing_reading = school_spending_df.groupby([\"Spending Ranges (Per Student)\"])[\"Percentage of Schools with Reading Passed\"].mean()\n",
    "overall_passing_spending = school_spending_df.groupby([\"Spending Ranges (Per Student)\"])[\"% Overall Passing\"].mean()"
   ]
  },
  {
   "cell_type": "code",
   "execution_count": null,
   "metadata": {},
   "outputs": [],
   "source": [
    "#Create the dataframe\n",
    "spending_summary = pd.DataFrame(\n",
    "    {\n",
    "        \"Average Math Score\": spending_math_scores,\n",
    "        \"Average Reading Score\": spending_reading_scores,\n",
    "        \"% passing math\": spending_passing_math,\n",
    "        \"% passing reading\": spending_passing_reading,\n",
    "        \"% overall passing\": overall_passing_spending,\n",
    "    }\n",
    ")\n",
    "\n",
    "# Display results\n",
    "spending_summary"
   ]
  },
  {
   "cell_type": "markdown",
   "metadata": {},
   "source": [
    "## Scores by School Size"
   ]
  },
  {
   "cell_type": "code",
   "execution_count": null,
   "metadata": {},
   "outputs": [],
   "source": [
    "#Make the bins\n",
    "size_bins = [0, 1000, 2000, 5000]\n",
    "labels = [\"Small (<1000)\", \"Medium (1000-2000)\", \"Large (2000-5000)\"]"
   ]
  },
  {
   "cell_type": "code",
   "execution_count": null,
   "metadata": {},
   "outputs": [],
   "source": [
    "#Use pd.cut() to get a Data Series and while using bins and labels\n",
    "\n",
    "per_school_summary[\"School Size\"] = pd.cut(per_school_summary[\"Total Student Count\"], size_bins, labels=labels)\n",
    "per_school_summary"
   ]
  },
  {
   "cell_type": "code",
   "execution_count": null,
   "metadata": {},
   "outputs": [],
   "source": [
    "# Calculate averages for the desired columns. \n",
    "size_math_scores = per_school_summary.groupby([\"School Size\"])[\"Average Math Score\"].mean()\n",
    "size_reading_scores = per_school_summary.groupby([\"School Size\"])[\"Average Reading Score\"].mean()\n",
    "size_passing_math = per_school_summary.groupby([\"School Size\"])[\"Percentage of Schools with Math Passed\"].mean()\n",
    "size_passing_reading = per_school_summary.groupby([\"School Size\"])[\"Percentage of Schools with Reading Passed\"].mean()\n",
    "size_overall_passing = per_school_summary.groupby([\"School Size\"])[\"% Overall Passing\"].mean()"
   ]
  },
  {
   "cell_type": "code",
   "execution_count": null,
   "metadata": {
    "scrolled": true
   },
   "outputs": [],
   "source": [
    "# Create the dataframe\n",
    "size_summary = pd.DataFrame(\n",
    "    {\n",
    "        \"Average Math Score\": size_math_scores,\n",
    "        \"Average Reading Score\": size_reading_scores,\n",
    "        \"% passing math\": size_passing_math,\n",
    "        \"% passing reading\": size_passing_reading,\n",
    "        \"% overall passing\": size_overall_passing,\n",
    "    }\n",
    ")\n",
    "\n",
    "# Display results\n",
    "size_summary"
   ]
  },
  {
   "cell_type": "markdown",
   "metadata": {},
   "source": [
    "## Scores by School Type"
   ]
  },
  {
   "cell_type": "code",
   "execution_count": null,
   "metadata": {},
   "outputs": [],
   "source": [
    "# Use groupby to group the per_school_summary DataFrame by \"School Type\" and average the results.\n",
    "average_math_score_by_type = per_school_summary.groupby([\"School Types\"])[\"Average Math Score\"].mean()\n",
    "average_reading_score_by_type = per_school_summary.groupby([\"School Types\"])[\"Average Reading Score\"].mean()\n",
    "average_percent_passing_math_by_type = per_school_summary.groupby([\"School Types\"])[\"Percentage of Schools with Math Passed\"].mean()\n",
    "average_percent_passing_reading_by_type = per_school_summary.groupby([\"School Types\"])[\"Percentage of Schools with Reading Passed\"].mean()\n",
    "average_percent_overall_passing_by_type = per_school_summary.groupby([\"School Types\"])[\"% Overall Passing\"].mean()"
   ]
  },
  {
   "cell_type": "code",
   "execution_count": null,
   "metadata": {},
   "outputs": [],
   "source": [
    "#Create type_summary dataframe\n",
    "type_summary = pd.DataFrame(\n",
    "    {\n",
    "        \"Average Math Score\": average_math_score_by_type,\n",
    "        \"Average Reading Score\": average_reading_score_by_type,\n",
    "        \"% passing math\": average_percent_passing_math_by_type,\n",
    "        \"% passing reading\": average_percent_passing_reading_by_type,\n",
    "        \"% overall passing\": average_percent_overall_passing_by_type,\n",
    "    }\n",
    ")\n",
    "\n",
    "#Show the dataframe\n",
    "type_summary"
   ]
  }
 ],
 "metadata": {
  "anaconda-cloud": {},
  "kernel_info": {
   "name": "python3"
  },
  "kernelspec": {
   "display_name": "Python 3 (ipykernel)",
   "language": "python",
   "name": "python3"
  },
  "language_info": {
   "codemirror_mode": {
    "name": "ipython",
    "version": 3
   },
   "file_extension": ".py",
   "mimetype": "text/x-python",
   "name": "python",
   "nbconvert_exporter": "python",
   "pygments_lexer": "ipython3",
   "version": "3.11.4"
  },
  "latex_envs": {
   "LaTeX_envs_menu_present": true,
   "autoclose": false,
   "autocomplete": true,
   "bibliofile": "biblio.bib",
   "cite_by": "apalike",
   "current_citInitial": 1,
   "eqLabelWithNumbers": true,
   "eqNumInitial": 1,
   "hotkeys": {
    "equation": "Ctrl-E",
    "itemize": "Ctrl-I"
   },
   "labels_anchors": false,
   "latex_user_defs": false,
   "report_style_numbering": false,
   "user_envs_cfg": false
  },
  "nteract": {
   "version": "0.8.4"
  },
  "vscode": {
   "interpreter": {
    "hash": "5384d77d82de63fd599f73e77f9ec786e7719288bf80a29ec0288c670ac3cf32"
   }
  }
 },
 "nbformat": 4,
 "nbformat_minor": 4
}
